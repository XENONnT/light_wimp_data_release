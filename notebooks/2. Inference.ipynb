{
 "cells": [
  {
   "cell_type": "markdown",
   "id": "94e6be8c-28f4-45fc-a16e-3f31e9a376ff",
   "metadata": {},
   "source": [
    "This is the second of the two steps in reinterpreting our result in [XENONnT first light DM search](https://arxiv.org/pdf/2409.17868). "
   ]
  },
  {
   "cell_type": "markdown",
   "id": "1f17ae93-4578-4e3a-82c4-fe95c8830ded",
   "metadata": {},
   "source": [
    "In this notebook, we demonstrate how to quickly derive constraints on new physics by reinterpreting our data with an approximate approach. We have tested the accuracy of this method, and found that it introduces a bias of up to 30% in a conservative direction. This notebook assumes you have completed the first notebook and generated the necessary templates."
   ]
  },
  {
   "cell_type": "markdown",
   "id": "1af91d19-24c6-4183-a291-c3517295651c",
   "metadata": {},
   "source": [
    "# Theory in a nutshell"
   ]
  },
  {
   "cell_type": "markdown",
   "id": "a1d4aa10-625b-463f-9cf6-db8837f32c94",
   "metadata": {},
   "source": [
    "As we reported in the paper, we used profiled-likelihood-ratio (PLR) as our statistics. Later we use this statistics to define confidence interval of new physics.\n",
    "\n",
    "$$\n",
    "q(\\sigma) \\equiv-2 \\ln \\frac{\\mathcal{L}(\\sigma, \\hat{\\hat{\\boldsymbol{\\theta}}})}{\\mathcal{L}(\\hat{\\sigma}, \\hat{\\boldsymbol{\\theta}})}\n",
    "$$\n",
    "\n",
    "The statistics itself is beyond the scope of this package, and we recommend [the white paper](https://arxiv.org/pdf/2105.00599) as a pedagogical introduction. Here is the likelihood function we reported in paper."
   ]
  },
  {
   "cell_type": "markdown",
   "id": "bdffe2d3-5411-4411-9792-9ed27de6a62a",
   "metadata": {},
   "source": [
    "$$\n",
    "\\mathcal{L}(\\sigma, \\boldsymbol{\\theta}) = \\mathcal{L}_\\mathrm{sr0}(\\sigma, \\boldsymbol{\\theta}) \\cdot \\mathcal{L}_\\mathrm{sr1}(\\sigma, \\boldsymbol{\\theta}) \\cdot \\mathcal{L}_\\mathrm{anc}(\\boldsymbol{\\theta})\n",
    "$$"
   ]
  },
  {
   "cell_type": "markdown",
   "id": "9fc28dfd-0e60-42fd-826a-a067dc35d470",
   "metadata": {},
   "source": [
    "with the DM-nucleon cross section $\\sigma$ or the \"coupling strength\" parameter, and a vector of nuisance parameters $\\boldsymbol{\\theta}$, including the two important yield model parameters $t_{ly}$ and $t_{qy}$ we explored in the previous notebook.\n",
    "The likelihoods $\\mathcal{L}_\\mathrm{sr0}$ and $\\mathcal{L}_\\mathrm{sr1}$ are each an **extended binned likelihood with 81 bins in 4 analysis dimensions** and they depend on the science data of SR0 and SR1 respectively. Each science run's likelihood term looks like this:\n"
   ]
  },
  {
   "cell_type": "markdown",
   "id": "91f43e47-87ed-48a6-8da0-7f9acf6af967",
   "metadata": {},
   "source": [
    "$$\n",
    "\\mathcal{L}_{\\text {sr}}(\\sigma, \\boldsymbol{\\theta})= \\text{Pois}\\left(N \\mid \\mu_{\\mathrm{tot}}(\\sigma, \\boldsymbol{\\theta})\\right) \\times \\prod_{i=1}^N\\left[\\sum_c \\frac{\\mu_c(\\sigma, \\boldsymbol{\\theta})}{\\mu_{\\mathrm{tot}}(\\sigma, \\boldsymbol{\\theta})} \\times f_c\\left(\\vec{x}_i \\mid \\boldsymbol{\\theta}\\right)\\right]\n",
    "$$\n"
   ]
  },
  {
   "cell_type": "markdown",
   "id": "a6afedbb-724a-49d4-b5ce-ed63b700c467",
   "metadata": {},
   "source": [
    "The index $i$ runs over all $N$ observed events $\\vec{x}_i$ in (cS2, S2 Shadow, S1BDT Score, S2BDT Score) coordinate. Meanwhile, $f_c$ is the signal and background templates we obtained from last notebooks."
   ]
  },
  {
   "cell_type": "markdown",
   "id": "6cad640c-4345-474b-a879-9d9dda29cbf3",
   "metadata": {},
   "source": [
    "The term $\\mathcal{L}_\\mathrm{anc}(\\boldsymbol{\\theta})$ contains ancillary measurements to Gaussianly constrain nuisance parameters. "
   ]
  },
  {
   "cell_type": "markdown",
   "id": "6fc4c2a1-d170-42b1-8eec-9b639c19d066",
   "metadata": {},
   "source": [
    "We recommend our [dedicated analysis paper](https://arxiv.org/pdf/2406.13638) for more information on this topic. For hand-on practice, we recommend the [tutorial notebooks of alea](https://github.com/XENONnT/alea/tree/main/notebooks) (the software we use to perform statistical inference in XENON)."
   ]
  },
  {
   "cell_type": "markdown",
   "id": "f92439ae-c4a3-404c-8711-7991d58c2d26",
   "metadata": {},
   "source": [
    "# Practice in a nutshell"
   ]
  },
  {
   "cell_type": "markdown",
   "id": "5fa83011-0bb8-43bc-bb08-95f9fc4e7c66",
   "metadata": {},
   "source": [
    "**Important note:** The following content in this notebook assumes your DM signal rate is proportional to $\\sigma$, and there is NO shape change in recoil energy spectrum as you change $\\sigma$. In more complicated scenarios, we cannot guarantee the reliability of this tool."
   ]
  },
  {
   "cell_type": "markdown",
   "id": "50c39bd1-2e0b-444c-967c-c614a55a787f",
   "metadata": {},
   "source": [
    "The DM-nucleon cross section can be rewritten into $\\sigma=s\\cdot\\sigma_0$, where $\\sigma_0$ is the nominal cross section you defined in the previous notebook that gives you the certain signal rate, and $s$ is a scalar rate multiplier for the DM signal. In practice, we use the methodology introduced above, to determine the confidence interval of $s$."
   ]
  },
  {
   "cell_type": "code",
   "execution_count": 1,
   "id": "18d46e53-1dea-4eb1-8d99-742c70346af7",
   "metadata": {},
   "outputs": [
    {
     "name": "stdout",
     "output_type": "stream",
     "text": [
      "XLA_PYTHON_CLIENT_PREALLOCATE is set to false\n",
      "XLA_PYTHON_CLIENT_ALLOCATOR is set to platform\n",
      "Cannot find aptext\n"
     ]
    },
    {
     "name": "stderr",
     "output_type": "stream",
     "text": [
      "/opt/anaconda3/envs/light_wimp_data_release/lib/python3.11/site-packages/appletree/__init__.py:51: UserWarning: You are running appletree on CPU, which usually results in low performance.\n",
      "  warn(warning)\n"
     ]
    }
   ],
   "source": [
    "import numpy as np\n",
    "from tqdm import tqdm\n",
    "from scipy.stats import chi2\n",
    "from light_wimp_data_release import produce_model_config, TEMPLATE_PATH, get_statistical_model\n",
    "\n",
    "# Just some plotting settings\n",
    "import matplotlib.pyplot as plt\n",
    "import matplotlib as mpl\n",
    "mpl.rcParams[\"figure.dpi\"] = 200\n",
    "mpl.rcParams[\"figure.figsize\"] = [4, 3]\n",
    "mpl.rcParams[\"font.family\"] = \"serif\"\n",
    "mpl.rcParams[\"font.size\"] = 9\n",
    "mpl.rcParams[\"mathtext.fontset\"] = \"dejavuserif\""
   ]
  },
  {
   "cell_type": "markdown",
   "id": "6d588987-c1ef-4930-98fa-2e5d5954b9d6",
   "metadata": {},
   "source": [
    "## Example: Customized signal model & customized yield model"
   ]
  },
  {
   "cell_type": "markdown",
   "id": "cb9f7147-6f0b-4d41-85c6-accc281b7a8a",
   "metadata": {},
   "source": [
    "This example correspond to the section \"Generate templates for arbitrary signal model and yield model\" in the previous notebook."
   ]
  },
  {
   "cell_type": "code",
   "execution_count": 2,
   "id": "44769d3f-a8a3-4577-b9d3-61911ce81f6c",
   "metadata": {
    "scrolled": true
   },
   "outputs": [
    {
     "name": "stderr",
     "output_type": "stream",
     "text": [
      "INFO:root:Load fermionic_linear/template_XENONnT_sr0_fermionic_cevns_tly_{t_ly:.1f}_tqy_{t_qy:.1f}.h5 successfully from /Users/lanqingyuan/Documents/GitHub/light_wimp_data_release/light_wimp_data_release/data/fermionic_linear/template_XENONnT_sr0_fermionic_cevns_tly_{t_ly:.1f}_tqy_{t_qy:.1f}.h5\n",
      "INFO:root:Load fermionic_linear/template_XENONnT_sr0_fermionic_cevns_tly_{t_ly:.1f}_tqy_{t_qy:.1f}.h5 successfully from /Users/lanqingyuan/Documents/GitHub/light_wimp_data_release/light_wimp_data_release/data/fermionic_linear/template_XENONnT_sr0_fermionic_cevns_tly_{t_ly:.1f}_tqy_{t_qy:.1f}.h5\n",
      "INFO:root:Load b8_linear/template_XENONnT_sr0_b8_cevns_tly_{t_ly:.1f}_tqy_{t_qy:.1f}.h5 successfully from /Users/lanqingyuan/Documents/GitHub/light_wimp_data_release/light_wimp_data_release/data/b8_linear/template_XENONnT_sr0_b8_cevns_tly_{t_ly:.1f}_tqy_{t_qy:.1f}.h5\n",
      "INFO:root:Load b8_linear/template_XENONnT_sr0_b8_cevns_tly_{t_ly:.1f}_tqy_{t_qy:.1f}.h5 successfully from /Users/lanqingyuan/Documents/GitHub/light_wimp_data_release/light_wimp_data_release/data/b8_linear/template_XENONnT_sr0_b8_cevns_tly_{t_ly:.1f}_tqy_{t_qy:.1f}.h5\n",
      "INFO:root:Load ac/template_XENONnT_sr0_ac_cevns.h5 successfully from /Users/lanqingyuan/Documents/GitHub/light_wimp_data_release/light_wimp_data_release/data/ac/template_XENONnT_sr0_ac_cevns.h5\n",
      "INFO:root:Load ac/template_XENONnT_sr0_ac_cevns.h5 successfully from /Users/lanqingyuan/Documents/GitHub/light_wimp_data_release/light_wimp_data_release/data/ac/template_XENONnT_sr0_ac_cevns.h5\n",
      "INFO:root:Load er/template_XENONnT_sr0_er_cevns.h5 successfully from /Users/lanqingyuan/Documents/GitHub/light_wimp_data_release/light_wimp_data_release/data/er/template_XENONnT_sr0_er_cevns.h5\n",
      "INFO:root:Load er/template_XENONnT_sr0_er_cevns.h5 successfully from /Users/lanqingyuan/Documents/GitHub/light_wimp_data_release/light_wimp_data_release/data/er/template_XENONnT_sr0_er_cevns.h5\n",
      "INFO:root:Load rg/template_XENONnT_sr0_rg_cevns_tly_{t_ly:.1f}_tqy_{t_qy:.1f}.h5 successfully from /Users/lanqingyuan/Documents/GitHub/light_wimp_data_release/light_wimp_data_release/data/rg/template_XENONnT_sr0_rg_cevns_tly_{t_ly:.1f}_tqy_{t_qy:.1f}.h5\n",
      "INFO:root:Load rg/template_XENONnT_sr0_rg_cevns_tly_{t_ly:.1f}_tqy_{t_qy:.1f}.h5 successfully from /Users/lanqingyuan/Documents/GitHub/light_wimp_data_release/light_wimp_data_release/data/rg/template_XENONnT_sr0_rg_cevns_tly_{t_ly:.1f}_tqy_{t_qy:.1f}.h5\n",
      "Computing/loading models on one core: 100%|██████████| 98/98 [00:01<00:00, 80.25it/s]\n",
      "INFO:root:Load fermionic_linear/template_XENONnT_sr1_fermionic_cevns_tly_{t_ly:.1f}_tqy_{t_qy:.1f}.h5 successfully from /Users/lanqingyuan/Documents/GitHub/light_wimp_data_release/light_wimp_data_release/data/fermionic_linear/template_XENONnT_sr1_fermionic_cevns_tly_{t_ly:.1f}_tqy_{t_qy:.1f}.h5\n",
      "INFO:root:Load fermionic_linear/template_XENONnT_sr1_fermionic_cevns_tly_{t_ly:.1f}_tqy_{t_qy:.1f}.h5 successfully from /Users/lanqingyuan/Documents/GitHub/light_wimp_data_release/light_wimp_data_release/data/fermionic_linear/template_XENONnT_sr1_fermionic_cevns_tly_{t_ly:.1f}_tqy_{t_qy:.1f}.h5\n",
      "INFO:root:Load b8_linear/template_XENONnT_sr1_b8_cevns_tly_{t_ly:.1f}_tqy_{t_qy:.1f}.h5 successfully from /Users/lanqingyuan/Documents/GitHub/light_wimp_data_release/light_wimp_data_release/data/b8_linear/template_XENONnT_sr1_b8_cevns_tly_{t_ly:.1f}_tqy_{t_qy:.1f}.h5\n",
      "INFO:root:Load b8_linear/template_XENONnT_sr1_b8_cevns_tly_{t_ly:.1f}_tqy_{t_qy:.1f}.h5 successfully from /Users/lanqingyuan/Documents/GitHub/light_wimp_data_release/light_wimp_data_release/data/b8_linear/template_XENONnT_sr1_b8_cevns_tly_{t_ly:.1f}_tqy_{t_qy:.1f}.h5\n",
      "INFO:root:Load ac/template_XENONnT_sr1_ac_cevns.h5 successfully from /Users/lanqingyuan/Documents/GitHub/light_wimp_data_release/light_wimp_data_release/data/ac/template_XENONnT_sr1_ac_cevns.h5\n",
      "INFO:root:Load ac/template_XENONnT_sr1_ac_cevns.h5 successfully from /Users/lanqingyuan/Documents/GitHub/light_wimp_data_release/light_wimp_data_release/data/ac/template_XENONnT_sr1_ac_cevns.h5\n",
      "INFO:root:Load er/template_XENONnT_sr1_er_cevns.h5 successfully from /Users/lanqingyuan/Documents/GitHub/light_wimp_data_release/light_wimp_data_release/data/er/template_XENONnT_sr1_er_cevns.h5\n",
      "INFO:root:Load er/template_XENONnT_sr1_er_cevns.h5 successfully from /Users/lanqingyuan/Documents/GitHub/light_wimp_data_release/light_wimp_data_release/data/er/template_XENONnT_sr1_er_cevns.h5\n",
      "INFO:root:Load rg/template_XENONnT_sr1_rg_cevns_tly_{t_ly:.1f}_tqy_{t_qy:.1f}.h5 successfully from /Users/lanqingyuan/Documents/GitHub/light_wimp_data_release/light_wimp_data_release/data/rg/template_XENONnT_sr1_rg_cevns_tly_{t_ly:.1f}_tqy_{t_qy:.1f}.h5\n",
      "INFO:root:Load rg/template_XENONnT_sr1_rg_cevns_tly_{t_ly:.1f}_tqy_{t_qy:.1f}.h5 successfully from /Users/lanqingyuan/Documents/GitHub/light_wimp_data_release/light_wimp_data_release/data/rg/template_XENONnT_sr1_rg_cevns_tly_{t_ly:.1f}_tqy_{t_qy:.1f}.h5\n",
      "Computing/loading models on one core: 100%|██████████| 98/98 [00:01<00:00, 61.75it/s]\n",
      "/opt/anaconda3/envs/light_wimp_data_release/lib/python3.11/site-packages/alea/models/blueice_extended_model.py:108: UserWarning: If data is not a list of length 4, only the science data and ancillary will be set.\n",
      "  warnings.warn(\n"
     ]
    }
   ],
   "source": [
    "confidence_level = 0.9\n",
    "signal_source_name = \"fermionic\"        # The source_name in produce_templates function\n",
    "signal_folder_name = \"fermionic_linear\" # The output_folder in produce_templates function\n",
    "b8_source_name     = \"b8\"               # This should be None only if you use default yield model\n",
    "b8_folder_name     = \"b8_linear\"        # This should be None only if you use default yield model\n",
    "\n",
    "produce_model_config(\n",
    "    signal_source_name = signal_source_name,\n",
    "    signal_folder_name = signal_folder_name,\n",
    "    b8_source_name     = b8_source_name,\n",
    "    b8_folder_name     = b8_folder_name\n",
    ")\n",
    "\n",
    "# Please remove pdf_cache if you can see any before running this\n",
    "config_path = f\"../light_wimp_data_release/data/{signal_folder_name}_statistical_model.yaml\"\n",
    "model = get_statistical_model(config_path=config_path, confidence_level=confidence_level)"
   ]
  },
  {
   "cell_type": "markdown",
   "id": "3d3b8267-f479-44a8-9aa0-9f6831c6e417",
   "metadata": {},
   "source": [
    "Here the `model` is the $\\mathcal{L}(s, \\boldsymbol{\\theta})$ introduced earlier. Below we get the confidence interval on $q(\\sigma=0)$. For simplicity, we will not do the full Neyman construction when building confidence intervals, which we used in the paper, but just assume [asymptotic Neyman threshold](https://arxiv.org/pdf/1007.1727v3) for $q(\\sigma=0)$. For a comprehensive tutorial on this object and what more you can do with it, please refer to [tutorial notebooks of alea](https://github.com/XENONnT/alea/tree/main/notebooks)."
   ]
  },
  {
   "cell_type": "markdown",
   "id": "e5971263-ddbd-48de-96b8-12ec2fe72a32",
   "metadata": {},
   "source": [
    "Now we visualize how this model gives you the limit."
   ]
  },
  {
   "cell_type": "code",
   "execution_count": 3,
   "id": "c6dfb884-bf94-418f-87f4-e0f53f32a24b",
   "metadata": {},
   "outputs": [
    {
     "name": "stderr",
     "output_type": "stream",
     "text": [
      "100%|██████████| 40/40 [00:14<00:00,  2.72it/s]\n"
     ]
    }
   ],
   "source": [
    "# This is the PLR statistics q(s)\n",
    "plrs = []\n",
    "# This is the signal multiplier s\n",
    "signal_multipliers = np.arange(40)/50\n",
    "\n",
    "# Get the PLR function\n",
    "for s in tqdm(signal_multipliers):\n",
    "    # Denominator\n",
    "    _best_fit, _ll_free = model.fit()\n",
    "    # Numerator\n",
    "    _null_fit, _ll_zero = model.fit(wimp_rate_multiplier=s)\n",
    "    # The PLR statistics under null hypothesis \n",
    "    _plr = -2 * (_ll_zero - _ll_free)\n",
    "    plrs.append(_plr)"
   ]
  },
  {
   "cell_type": "code",
   "execution_count": 4,
   "id": "ee528b58-eefd-4ae7-ae08-247d3eb97fe5",
   "metadata": {},
   "outputs": [
    {
     "data": {
      "text/plain": [
       "Text(0, 0.5, '$q(s)$')"
      ]
     },
     "execution_count": 4,
     "metadata": {},
     "output_type": "execute_result"
    },
    {
     "data": {
      "image/png": "[encoded data removed]",
      "text/plain": [
       "<Figure size 800x600 with 1 Axes>"
      ]
     },
     "metadata": {},
     "output_type": "display_data"
    }
   ],
   "source": [
    "# See this paper to make sense: https://arxiv.org/pdf/1007.1727v3\n",
    "asymptotic_threshold = chi2(1).isf(1.0 - confidence_level)\n",
    "\n",
    "# Just use the asymptotic threshold to obtain upper limit on signal rate multiplier\n",
    "_, upper_limit_s = model.confidence_interval(poi_name=\"wimp_rate_multiplier\") \n",
    "\n",
    "plt.plot(signal_multipliers, plrs)\n",
    "plt.axhline(asymptotic_threshold, ls=\"--\", color=\"grey\")\n",
    "plt.text(0, asymptotic_threshold+0.1, \"Asymptotic Threshold\", color=\"grey\")\n",
    "plt.axvline(upper_limit_s, ls=\":\", color=\"grey\")\n",
    "plt.text(upper_limit_s, 0, \"Upper Limit $s_{UL}$\", color=\"grey\", rotation=90)\n",
    "plt.xlabel(\"Signal Rate Multiplier $s$\")\n",
    "plt.ylabel(\"$q(s)$\")"
   ]
  },
  {
   "cell_type": "markdown",
   "id": "94d3e8f4-8a8e-408a-b98f-1d067e0d0b08",
   "metadata": {},
   "source": [
    "The `upper_limit_s` is the constraint (upper limit) $s_{UL}$ we have on rate multiplier of the specified signal model."
   ]
  },
  {
   "cell_type": "code",
   "execution_count": 5,
   "id": "135f121a-893d-4a04-88b8-99d3deb97b16",
   "metadata": {},
   "outputs": [
    {
     "data": {
      "text/plain": [
       "0.7077426983481122"
      ]
     },
     "execution_count": 5,
     "metadata": {},
     "output_type": "execute_result"
    }
   ],
   "source": [
    "upper_limit_s"
   ]
  },
  {
   "cell_type": "markdown",
   "id": "589a9c6b-e987-4370-ae81-e00c990d9c73",
   "metadata": {},
   "source": [
    "Now the constraint on your new physics model is $s_{\\mathrm{UL}} \\cdot \\sigma_0$."
   ]
  },
  {
   "cell_type": "markdown",
   "id": "fd880cf3-4241-4d32-b0be-9ef86d4dff1f",
   "metadata": {},
   "source": [
    "## Example: Customized signal model and default yield model"
   ]
  },
  {
   "cell_type": "code",
   "execution_count": 6,
   "id": "7cdc8d8c-bd58-41ea-a005-e5bb348a0c9d",
   "metadata": {
    "scrolled": true
   },
   "outputs": [
    {
     "name": "stderr",
     "output_type": "stream",
     "text": [
      "INFO:root:Load fermionic_ybe/template_XENONnT_sr0_fermionic_cevns_tly_{t_ly:.1f}_tqy_{t_qy:.1f}.h5 successfully from /Users/lanqingyuan/Documents/GitHub/light_wimp_data_release/light_wimp_data_release/data/fermionic_ybe/template_XENONnT_sr0_fermionic_cevns_tly_{t_ly:.1f}_tqy_{t_qy:.1f}.h5\n",
      "INFO:root:Load fermionic_ybe/template_XENONnT_sr0_fermionic_cevns_tly_{t_ly:.1f}_tqy_{t_qy:.1f}.h5 successfully from /Users/lanqingyuan/Documents/GitHub/light_wimp_data_release/light_wimp_data_release/data/fermionic_ybe/template_XENONnT_sr0_fermionic_cevns_tly_{t_ly:.1f}_tqy_{t_qy:.1f}.h5\n",
      "INFO:root:Load b8/template_XENONnT_sr0_b8_cevns_tly_{t_ly:.1f}_tqy_{t_qy:.1f}.h5 successfully from /Users/lanqingyuan/Documents/GitHub/light_wimp_data_release/light_wimp_data_release/data/b8/template_XENONnT_sr0_b8_cevns_tly_{t_ly:.1f}_tqy_{t_qy:.1f}.h5\n",
      "INFO:root:Load b8/template_XENONnT_sr0_b8_cevns_tly_{t_ly:.1f}_tqy_{t_qy:.1f}.h5 successfully from /Users/lanqingyuan/Documents/GitHub/light_wimp_data_release/light_wimp_data_release/data/b8/template_XENONnT_sr0_b8_cevns_tly_{t_ly:.1f}_tqy_{t_qy:.1f}.h5\n",
      "INFO:root:Load ac/template_XENONnT_sr0_ac_cevns.h5 successfully from /Users/lanqingyuan/Documents/GitHub/light_wimp_data_release/light_wimp_data_release/data/ac/template_XENONnT_sr0_ac_cevns.h5\n",
      "INFO:root:Load ac/template_XENONnT_sr0_ac_cevns.h5 successfully from /Users/lanqingyuan/Documents/GitHub/light_wimp_data_release/light_wimp_data_release/data/ac/template_XENONnT_sr0_ac_cevns.h5\n",
      "INFO:root:Load er/template_XENONnT_sr0_er_cevns.h5 successfully from /Users/lanqingyuan/Documents/GitHub/light_wimp_data_release/light_wimp_data_release/data/er/template_XENONnT_sr0_er_cevns.h5\n",
      "INFO:root:Load er/template_XENONnT_sr0_er_cevns.h5 successfully from /Users/lanqingyuan/Documents/GitHub/light_wimp_data_release/light_wimp_data_release/data/er/template_XENONnT_sr0_er_cevns.h5\n",
      "INFO:root:Load rg/template_XENONnT_sr0_rg_cevns_tly_{t_ly:.1f}_tqy_{t_qy:.1f}.h5 successfully from /Users/lanqingyuan/Documents/GitHub/light_wimp_data_release/light_wimp_data_release/data/rg/template_XENONnT_sr0_rg_cevns_tly_{t_ly:.1f}_tqy_{t_qy:.1f}.h5\n",
      "INFO:root:Load rg/template_XENONnT_sr0_rg_cevns_tly_{t_ly:.1f}_tqy_{t_qy:.1f}.h5 successfully from /Users/lanqingyuan/Documents/GitHub/light_wimp_data_release/light_wimp_data_release/data/rg/template_XENONnT_sr0_rg_cevns_tly_{t_ly:.1f}_tqy_{t_qy:.1f}.h5\n",
      "Computing/loading models on one core: 100%|██████████| 98/98 [00:00<00:00, 99.08it/s]\n",
      "INFO:root:Load fermionic_ybe/template_XENONnT_sr1_fermionic_cevns_tly_{t_ly:.1f}_tqy_{t_qy:.1f}.h5 successfully from /Users/lanqingyuan/Documents/GitHub/light_wimp_data_release/light_wimp_data_release/data/fermionic_ybe/template_XENONnT_sr1_fermionic_cevns_tly_{t_ly:.1f}_tqy_{t_qy:.1f}.h5\n",
      "INFO:root:Load fermionic_ybe/template_XENONnT_sr1_fermionic_cevns_tly_{t_ly:.1f}_tqy_{t_qy:.1f}.h5 successfully from /Users/lanqingyuan/Documents/GitHub/light_wimp_data_release/light_wimp_data_release/data/fermionic_ybe/template_XENONnT_sr1_fermionic_cevns_tly_{t_ly:.1f}_tqy_{t_qy:.1f}.h5\n",
      "INFO:root:Load b8/template_XENONnT_sr1_b8_cevns_tly_{t_ly:.1f}_tqy_{t_qy:.1f}.h5 successfully from /Users/lanqingyuan/Documents/GitHub/light_wimp_data_release/light_wimp_data_release/data/b8/template_XENONnT_sr1_b8_cevns_tly_{t_ly:.1f}_tqy_{t_qy:.1f}.h5\n",
      "INFO:root:Load b8/template_XENONnT_sr1_b8_cevns_tly_{t_ly:.1f}_tqy_{t_qy:.1f}.h5 successfully from /Users/lanqingyuan/Documents/GitHub/light_wimp_data_release/light_wimp_data_release/data/b8/template_XENONnT_sr1_b8_cevns_tly_{t_ly:.1f}_tqy_{t_qy:.1f}.h5\n",
      "INFO:root:Load ac/template_XENONnT_sr1_ac_cevns.h5 successfully from /Users/lanqingyuan/Documents/GitHub/light_wimp_data_release/light_wimp_data_release/data/ac/template_XENONnT_sr1_ac_cevns.h5\n",
      "INFO:root:Load ac/template_XENONnT_sr1_ac_cevns.h5 successfully from /Users/lanqingyuan/Documents/GitHub/light_wimp_data_release/light_wimp_data_release/data/ac/template_XENONnT_sr1_ac_cevns.h5\n",
      "INFO:root:Load er/template_XENONnT_sr1_er_cevns.h5 successfully from /Users/lanqingyuan/Documents/GitHub/light_wimp_data_release/light_wimp_data_release/data/er/template_XENONnT_sr1_er_cevns.h5\n",
      "INFO:root:Load er/template_XENONnT_sr1_er_cevns.h5 successfully from /Users/lanqingyuan/Documents/GitHub/light_wimp_data_release/light_wimp_data_release/data/er/template_XENONnT_sr1_er_cevns.h5\n",
      "INFO:root:Load rg/template_XENONnT_sr1_rg_cevns_tly_{t_ly:.1f}_tqy_{t_qy:.1f}.h5 successfully from /Users/lanqingyuan/Documents/GitHub/light_wimp_data_release/light_wimp_data_release/data/rg/template_XENONnT_sr1_rg_cevns_tly_{t_ly:.1f}_tqy_{t_qy:.1f}.h5\n",
      "INFO:root:Load rg/template_XENONnT_sr1_rg_cevns_tly_{t_ly:.1f}_tqy_{t_qy:.1f}.h5 successfully from /Users/lanqingyuan/Documents/GitHub/light_wimp_data_release/light_wimp_data_release/data/rg/template_XENONnT_sr1_rg_cevns_tly_{t_ly:.1f}_tqy_{t_qy:.1f}.h5\n",
      "Computing/loading models on one core: 100%|██████████| 98/98 [00:01<00:00, 95.29it/s]\n",
      "/opt/anaconda3/envs/light_wimp_data_release/lib/python3.11/site-packages/alea/models/blueice_extended_model.py:108: UserWarning: If data is not a list of length 4, only the science data and ancillary will be set.\n",
      "  warnings.warn(\n"
     ]
    }
   ],
   "source": [
    "confidence_level = 0.9\n",
    "signal_source_name = \"fermionic\"        # The source_name in produce_templates function\n",
    "signal_folder_name = \"fermionic_ybe\"    # The output_folder in produce_templates function\n",
    "b8_source_name     = None               # This should be None only if you use default yield model\n",
    "b8_folder_name     = None               # This should be None only if you use default yield model\n",
    "\n",
    "produce_model_config(\n",
    "    signal_source_name = signal_source_name,\n",
    "    signal_folder_name = signal_folder_name,\n",
    "    b8_source_name     = b8_source_name,\n",
    "    b8_folder_name     = b8_folder_name\n",
    ")\n",
    "\n",
    "# Please remove pdf_cache if you can see any before running this\n",
    "config_path = f\"../light_wimp_data_release/data/{signal_folder_name}_statistical_model.yaml\"\n",
    "model = get_statistical_model(config_path=config_path, confidence_level=confidence_level)"
   ]
  },
  {
   "cell_type": "code",
   "execution_count": 7,
   "id": "adb34a82-ebc3-49e0-b346-261b64a9c330",
   "metadata": {},
   "outputs": [],
   "source": [
    "# Just use the asymptotic threshold to obtain upper limit on signal rate multiplier\n",
    "_, upper_limit_s = model.confidence_interval(poi_name=\"wimp_rate_multiplier\")"
   ]
  },
  {
   "cell_type": "code",
   "execution_count": 8,
   "id": "6284f7cf-b1e0-4d15-8b52-7680adc8f518",
   "metadata": {},
   "outputs": [
    {
     "data": {
      "text/plain": [
       "0.269298275954629"
      ]
     },
     "execution_count": 8,
     "metadata": {},
     "output_type": "execute_result"
    }
   ],
   "source": [
    "upper_limit_s"
   ]
  },
  {
   "cell_type": "markdown",
   "id": "1158a903-69b3-433c-bfbc-199e31b94f33",
   "metadata": {},
   "source": [
    "The `upper_limit_s` is the constraint (upper limit) $s_{UL}$ we have on rate multiplier of the specified signal model."
   ]
  },
  {
   "cell_type": "code",
   "execution_count": null,
   "id": "b0a6ed10-20d2-4765-9b77-9b77f7d51166",
   "metadata": {},
   "outputs": [],
   "source": []
  }
 ],
 "metadata": {
  "kernelspec": {
   "display_name": "Python 3 (ipykernel)",
   "language": "python",
   "name": "python3"
  },
  "language_info": {
   "codemirror_mode": {
    "name": "ipython",
    "version": 3
   },
   "file_extension": ".py",
   "mimetype": "text/x-python",
   "name": "python",
   "nbconvert_exporter": "python",
   "pygments_lexer": "ipython3",
   "version": "3.11.10"
  }
 },
 "nbformat": 4,
 "nbformat_minor": 5
}
